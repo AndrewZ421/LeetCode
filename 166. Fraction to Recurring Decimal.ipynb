{
 "cells": [
  {
   "cell_type": "code",
   "execution_count": 1,
   "metadata": {},
   "outputs": [],
   "source": [
    "class Solution(object):\n",
    "    def fractionToDecimal(self, numerator, denominator):\n",
    "        \"\"\"\n",
    "        :type numerator: int\n",
    "        :type denominator: int\n",
    "        :rtype: str\n",
    "        \"\"\"\n",
    "        if numerator % denominator == 0:\n",
    "            return str(numerator//denominator)\n",
    "        \n",
    "        sign = '' \n",
    "        if numerator * denominator < 0:\n",
    "            sign = '-'\n",
    "        \n",
    "        numerator, denominator = abs(numerator), abs(denominator)\n",
    "        res = sign + str(numerator//denominator) + '.'\n",
    "\n",
    "        numerator %= denominator\n",
    "        i = 0\n",
    "        part = ''\n",
    "        m = {numerator:i}\n",
    "        while numerator % denominator:\n",
    "            numerator *= 10\n",
    "            i += 1\n",
    "            rem = numerator % denominator\n",
    "            part += str(numerator // denominator)\n",
    "            if rem in m:\n",
    "                part = part[:m[rem]]+'('+part[m[rem]:]+')'\n",
    "                return res + part\n",
    "            m[rem] = i\n",
    "            numerator = rem\n",
    "        return res + part\n"
   ]
  },
  {
   "cell_type": "code",
   "execution_count": 3,
   "metadata": {},
   "outputs": [
    {
     "data": {
      "text/plain": [
       "'-0.(3)'"
      ]
     },
     "execution_count": 3,
     "metadata": {},
     "output_type": "execute_result"
    }
   ],
   "source": [
    "theS = Solution()\n",
    "numerator = -1\n",
    "denominator = 3\n",
    "theS.fractionToDecimal(numerator, denominator)"
   ]
  },
  {
   "cell_type": "code",
   "execution_count": null,
   "metadata": {},
   "outputs": [],
   "source": []
  }
 ],
 "metadata": {
  "kernelspec": {
   "display_name": "base",
   "language": "python",
   "name": "python3"
  },
  "language_info": {
   "codemirror_mode": {
    "name": "ipython",
    "version": 3
   },
   "file_extension": ".py",
   "mimetype": "text/x-python",
   "name": "python",
   "nbconvert_exporter": "python",
   "pygments_lexer": "ipython3",
   "version": "3.11.4"
  },
  "orig_nbformat": 4
 },
 "nbformat": 4,
 "nbformat_minor": 2
}
