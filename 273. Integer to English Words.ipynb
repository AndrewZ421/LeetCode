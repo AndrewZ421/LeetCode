{
 "cells": [
  {
   "cell_type": "code",
   "execution_count": 24,
   "metadata": {},
   "outputs": [],
   "source": [
    "class Solution(object):\n",
    "    def numberToWords(self, num):\n",
    "        \"\"\"\n",
    "        :type num: int\n",
    "        :rtype: str\n",
    "        \"\"\"\n",
    "        if num == 0:\n",
    "            return \"Zero\"\n",
    "\n",
    "        n = str(num)\n",
    "        digit = 1\n",
    "        ans = \"\"\n",
    "        idx = len(n) - 1\n",
    "\n",
    "        LESS_THAN_20 = [\"\", \"One\", \"Two\", \"Three\", \"Four\", \"Five\", \"Six\", \"Seven\", \"Eight\", \"Nine\", \"Ten\", \"Eleven\", \"Twelve\", \"Thirteen\", \"Fourteen\", \"Fifteen\", \"Sixteen\", \"Seventeen\", \"Eighteen\", \"Nineteen\"]\n",
    "        TENS = [\"\", \"Ten\", \"Twenty\", \"Thirty\", \"Forty\", \"Fifty\", \"Sixty\", \"Seventy\", \"Eighty\", \"Ninety\"]\n",
    "        THOUSANDS = [\"\", \"Thousand\", \"Million\", \"Billion\"]\n",
    "\n",
    "        while idx >= 0:\n",
    "            if digit % 3 == 1:\n",
    "                if idx <= 1 or n[idx-2:idx+1] != \"000\":\n",
    "                    ans = THOUSANDS[int(digit/3)] + \" \" + ans\n",
    "                if idx > 0 and n[idx-1] == \"1\":\n",
    "                    ans = LESS_THAN_20[int(n[idx-1:idx+1])] + \" \" + ans\n",
    "                    idx -= 2\n",
    "                    digit += 2\n",
    "                else:\n",
    "                    if n[idx] != \"0\":\n",
    "                        ans = LESS_THAN_20[int(n[idx])] + \" \" + ans\n",
    "                    idx -= 1\n",
    "                    digit += 1\n",
    "            elif digit % 3 == 2:\n",
    "                if n[idx] != \"0\":\n",
    "                    ans = TENS[int(n[idx])] + \" \" + ans\n",
    "                idx -= 1\n",
    "                digit += 1\n",
    "            else:\n",
    "                if n[idx] != \"0\":\n",
    "                    ans = LESS_THAN_20[int(n[idx])] + \" Hundred \" + ans\n",
    "                idx -= 1\n",
    "                digit += 1\n",
    "        return ans.strip()"
   ]
  },
  {
   "cell_type": "code",
   "execution_count": 25,
   "metadata": {},
   "outputs": [
    {
     "data": {
      "text/plain": [
       "'One Million'"
      ]
     },
     "execution_count": 25,
     "metadata": {},
     "output_type": "execute_result"
    }
   ],
   "source": [
    "theS = Solution()\n",
    "num = 1000000\n",
    "theS.numberToWords(num)"
   ]
  },
  {
   "cell_type": "code",
   "execution_count": null,
   "metadata": {},
   "outputs": [],
   "source": []
  }
 ],
 "metadata": {
  "kernelspec": {
   "display_name": "base",
   "language": "python",
   "name": "python3"
  },
  "language_info": {
   "codemirror_mode": {
    "name": "ipython",
    "version": 3
   },
   "file_extension": ".py",
   "mimetype": "text/x-python",
   "name": "python",
   "nbconvert_exporter": "python",
   "pygments_lexer": "ipython3",
   "version": "3.11.4"
  },
  "orig_nbformat": 4
 },
 "nbformat": 4,
 "nbformat_minor": 2
}
