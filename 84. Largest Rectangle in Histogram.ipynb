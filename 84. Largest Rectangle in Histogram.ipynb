{
 "cells": [
  {
   "cell_type": "code",
   "execution_count": 7,
   "metadata": {},
   "outputs": [],
   "source": [
    "class Solution:\n",
    "    def largestRectangleArea(self, heights) -> int:\n",
    "        maxArea = 0\n",
    "        stack = []\n",
    "\n",
    "        for index , height in enumerate(heights):\n",
    "            start = index\n",
    "            \n",
    "            while start and stack[-1][1] > height:\n",
    "                i , h = stack.pop()\n",
    "                maxArea = max(maxArea , (index-i)*h)\n",
    "                start = i\n",
    "            stack.append((start , height))\n",
    "\n",
    "        for index , height in stack:\n",
    "            maxArea = max(maxArea , (len(heights)-index)*height)\n",
    "\n",
    "        return maxArea"
   ]
  },
  {
   "cell_type": "code",
   "execution_count": 8,
   "metadata": {},
   "outputs": [
    {
     "data": {
      "text/plain": [
       "10"
      ]
     },
     "execution_count": 8,
     "metadata": {},
     "output_type": "execute_result"
    }
   ],
   "source": [
    "theS = Solution()\n",
    "heights = [2,1,5,6,2,3]\n",
    "theS.largestRectangleArea(heights)"
   ]
  },
  {
   "cell_type": "code",
   "execution_count": null,
   "metadata": {},
   "outputs": [],
   "source": []
  }
 ],
 "metadata": {
  "kernelspec": {
   "display_name": "base",
   "language": "python",
   "name": "python3"
  },
  "language_info": {
   "codemirror_mode": {
    "name": "ipython",
    "version": 3
   },
   "file_extension": ".py",
   "mimetype": "text/x-python",
   "name": "python",
   "nbconvert_exporter": "python",
   "pygments_lexer": "ipython3",
   "version": "3.11.4"
  }
 },
 "nbformat": 4,
 "nbformat_minor": 2
}
