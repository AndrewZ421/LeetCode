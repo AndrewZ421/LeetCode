{
 "cells": [
  {
   "cell_type": "code",
   "execution_count": 10,
   "metadata": {},
   "outputs": [],
   "source": [
    "class Solution:\n",
    "    def reductionOperations(self, nums) -> int:\n",
    "        sorted_nums = sorted(nums)\n",
    "        ans = 0\n",
    "        rank = 0\n",
    "        curr = sorted_nums[0]\n",
    "        for n in sorted_nums:\n",
    "            if n == curr:\n",
    "                ans += rank\n",
    "            else:\n",
    "                rank += 1\n",
    "                ans += rank\n",
    "                curr = n\n",
    "        return ans"
   ]
  },
  {
   "cell_type": "code",
   "execution_count": 11,
   "metadata": {},
   "outputs": [
    {
     "name": "stdout",
     "output_type": "stream",
     "text": [
      "[27664, 27664, 27664, 27664, 27664, 27664, 27664, 27664, 27664, 47570]\n"
     ]
    },
    {
     "data": {
      "text/plain": [
       "1"
      ]
     },
     "execution_count": 11,
     "metadata": {},
     "output_type": "execute_result"
    }
   ],
   "source": [
    "theS = Solution()\n",
    "nums = [27664,47570,27664,27664,27664,27664,27664,27664,27664,27664]\n",
    "theS.reductionOperations(nums)"
   ]
  },
  {
   "cell_type": "code",
   "execution_count": null,
   "metadata": {},
   "outputs": [],
   "source": []
  }
 ],
 "metadata": {
  "kernelspec": {
   "display_name": "base",
   "language": "python",
   "name": "python3"
  },
  "language_info": {
   "codemirror_mode": {
    "name": "ipython",
    "version": 3
   },
   "file_extension": ".py",
   "mimetype": "text/x-python",
   "name": "python",
   "nbconvert_exporter": "python",
   "pygments_lexer": "ipython3",
   "version": "3.10.13"
  }
 },
 "nbformat": 4,
 "nbformat_minor": 2
}
