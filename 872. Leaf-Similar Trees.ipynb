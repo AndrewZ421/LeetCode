{
 "cells": [
  {
   "cell_type": "code",
   "execution_count": null,
   "metadata": {},
   "outputs": [],
   "source": [
    "# Definition for a binary tree node.\n",
    "# class TreeNode:\n",
    "#     def __init__(self, val=0, left=None, right=None):\n",
    "#         self.val = val\n",
    "#         self.left = left\n",
    "#         self.right = right\n",
    "class Solution:\n",
    "    def __init__(self):\n",
    "        self.leaves1 = [] \n",
    "        self.leaves2 = [] \n",
    "\n",
    "    def getLeaves(self, node, treeNo):\n",
    "        if node == None:\n",
    "            return\n",
    "        if node.left == None and node.right == None:\n",
    "            if treeNo == 1:\n",
    "                self.leaves1.append(node.val)\n",
    "            else:\n",
    "                self.leaves2.append(node.val)\n",
    "        else:\n",
    "            self.getLeaves(node.left, treeNo)\n",
    "            self.getLeaves(node.right, treeNo)\n",
    "\n",
    "    def leafSimilar(self, root1, root2) -> bool:\n",
    "        self.getLeaves(root1, 1)\n",
    "        self.getLeaves(root2, 2)\n",
    "\n",
    "        if len(self.leaves1) != len(self.leaves2):\n",
    "            return False\n",
    "        for i in range(len(self.leaves1)):\n",
    "            if self.leaves1[i] != self.leaves2[i]:\n",
    "                return False\n",
    "        return True"
   ]
  }
 ],
 "metadata": {
  "language_info": {
   "name": "python"
  }
 },
 "nbformat": 4,
 "nbformat_minor": 2
}
