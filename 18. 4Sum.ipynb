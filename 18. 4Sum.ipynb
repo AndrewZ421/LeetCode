{
 "cells": [
  {
   "cell_type": "code",
   "execution_count": 22,
   "metadata": {},
   "outputs": [],
   "source": [
    "class Solution(object):\n",
    "    def fourSum(self, nums, target):\n",
    "        \"\"\"\n",
    "        :type nums: List[int]\n",
    "        :type target: int\n",
    "        :rtype: List[List[int]]\n",
    "        \"\"\"\n",
    "        ans = []\n",
    "        nums = sorted(nums)\n",
    "        \n",
    "        for idx_1 in range(len(nums) - 3):\n",
    "            if idx_1 > 0 and nums[idx_1] == nums[idx_1 - 1]:\n",
    "                continue\n",
    "\n",
    "            for idx_2 in range(idx_1 + 1, len(nums) - 2):\n",
    "                if idx_2 > idx_1 + 1 and nums[idx_2] == nums[idx_2 - 1]:\n",
    "                    continue\n",
    "\n",
    "                idx_3 = idx_2 + 1\n",
    "                idx_4 = len(nums) - 1\n",
    "                \n",
    "                while idx_3 < idx_4:\n",
    "                    sum = nums[idx_1] + nums[idx_2] + nums[idx_3] + nums[idx_4]\n",
    "                    if sum == target:\n",
    "                        ans.append([nums[idx_1], nums[idx_2], nums[idx_3], nums[idx_4]])\n",
    "                        while idx_3 < idx_4 and nums[idx_3] == nums[idx_3 + 1]:\n",
    "                            idx_3 += 1\n",
    "                        while idx_3 < idx_4 and nums[idx_4] == nums[idx_4 - 1]:\n",
    "                            idx_4 -= 1\n",
    "                        idx_3 += 1\n",
    "                        idx_4 -= 1\n",
    "                    elif sum < target:\n",
    "                        idx_3 += 1\n",
    "                    else:\n",
    "                        idx_4 -= 1\n",
    "        return ans"
   ]
  },
  {
   "cell_type": "code",
   "execution_count": 23,
   "metadata": {},
   "outputs": [
    {
     "data": {
      "text/plain": [
       "[[-5, -4, -3, 1]]"
      ]
     },
     "execution_count": 23,
     "metadata": {},
     "output_type": "execute_result"
    }
   ],
   "source": [
    "theS = Solution()\n",
    "nums = [1,-2,-5,-4,-3,3,3,5]\n",
    "target = -11\n",
    "theS.fourSum(nums, target)"
   ]
  },
  {
   "cell_type": "code",
   "execution_count": null,
   "metadata": {},
   "outputs": [],
   "source": []
  }
 ],
 "metadata": {
  "kernelspec": {
   "display_name": "base",
   "language": "python",
   "name": "python3"
  },
  "language_info": {
   "codemirror_mode": {
    "name": "ipython",
    "version": 3
   },
   "file_extension": ".py",
   "mimetype": "text/x-python",
   "name": "python",
   "nbconvert_exporter": "python",
   "pygments_lexer": "ipython3",
   "version": "3.11.4"
  },
  "orig_nbformat": 4
 },
 "nbformat": 4,
 "nbformat_minor": 2
}
