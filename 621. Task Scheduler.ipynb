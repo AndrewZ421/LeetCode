{
 "cells": [
  {
   "cell_type": "code",
   "execution_count": 37,
   "metadata": {},
   "outputs": [],
   "source": [
    "class Solution(object):\n",
    "    def leastInterval(self, tasks, n):\n",
    "        \"\"\"\n",
    "        :type tasks: List[str]\n",
    "        :type n: int\n",
    "        :rtype: int\n",
    "        \"\"\"\n",
    "        max_count = 0\n",
    "        repeat_len = 0\n",
    "        count = [0] * 26\n",
    "\n",
    "        for task in tasks:\n",
    "            count[ord(task[0]) - ord('A')] += 1\n",
    "            if count[ord(task[0]) - ord('A')] > max_count:\n",
    "                max_count = count[ord(task[0]) - ord('A')]\n",
    "                repeat_len = 1\n",
    "            elif count[ord(task[0]) - ord('A')] == max_count:\n",
    "                repeat_len += 1\n",
    "                \n",
    "        empty = (max_count - 1) * (n + 1 - repeat_len)\n",
    "        available = len(tasks) - (max_count * repeat_len)\n",
    "\n",
    "        if available >= empty:\n",
    "            return len(tasks)\n",
    "        else:\n",
    "            return len(tasks) + (empty - available)"
   ]
  },
  {
   "cell_type": "code",
   "execution_count": 39,
   "metadata": {},
   "outputs": [
    {
     "data": {
      "text/plain": [
       "16"
      ]
     },
     "execution_count": 39,
     "metadata": {},
     "output_type": "execute_result"
    }
   ],
   "source": [
    "theS = Solution()\n",
    "tasks = [\"A\",\"A\",\"A\",\"A\",\"A\",\"A\",\"B\",\"C\",\"D\",\"E\",\"F\",\"G\"]\n",
    "n = 2\n",
    "theS.leastInterval(tasks, n)"
   ]
  },
  {
   "cell_type": "code",
   "execution_count": null,
   "metadata": {},
   "outputs": [],
   "source": []
  }
 ],
 "metadata": {
  "kernelspec": {
   "display_name": "base",
   "language": "python",
   "name": "python3"
  },
  "language_info": {
   "codemirror_mode": {
    "name": "ipython",
    "version": 3
   },
   "file_extension": ".py",
   "mimetype": "text/x-python",
   "name": "python",
   "nbconvert_exporter": "python",
   "pygments_lexer": "ipython3",
   "version": "3.11.4"
  },
  "orig_nbformat": 4
 },
 "nbformat": 4,
 "nbformat_minor": 2
}
