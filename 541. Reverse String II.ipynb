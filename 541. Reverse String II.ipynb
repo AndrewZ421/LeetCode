{
 "cells": [
  {
   "cell_type": "code",
   "execution_count": 16,
   "metadata": {},
   "outputs": [],
   "source": [
    "class Solution:\n",
    "    def reverseStr(self, s: str, k: int) -> str:\n",
    "        ptr = 0\n",
    "        ans = \"\"\n",
    "        while ptr < len(s):\n",
    "            if ptr + k < len(s):\n",
    "                ans += s[ptr:ptr+k][::-1]\n",
    "                ans += s[ptr+k:min(ptr+2*k,len(s))]\n",
    "            else:\n",
    "                ans += s[ptr:len(s)][::-1]\n",
    "            ptr += 2*k\n",
    "        return ans"
   ]
  },
  {
   "cell_type": "code",
   "execution_count": 17,
   "metadata": {},
   "outputs": [
    {
     "data": {
      "text/plain": [
       "'bacdfeg'"
      ]
     },
     "execution_count": 17,
     "metadata": {},
     "output_type": "execute_result"
    }
   ],
   "source": [
    "theS = Solution()\n",
    "s = \"abcdefg\"\n",
    "k = 2\n",
    "theS.reverseStr(s, k)"
   ]
  },
  {
   "cell_type": "code",
   "execution_count": null,
   "metadata": {},
   "outputs": [],
   "source": []
  }
 ],
 "metadata": {
  "kernelspec": {
   "display_name": "base",
   "language": "python",
   "name": "python3"
  },
  "language_info": {
   "codemirror_mode": {
    "name": "ipython",
    "version": 3
   },
   "file_extension": ".py",
   "mimetype": "text/x-python",
   "name": "python",
   "nbconvert_exporter": "python",
   "pygments_lexer": "ipython3",
   "version": "3.11.5"
  }
 },
 "nbformat": 4,
 "nbformat_minor": 2
}
