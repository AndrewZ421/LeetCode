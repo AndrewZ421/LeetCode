{
 "cells": [
  {
   "cell_type": "code",
   "execution_count": 1,
   "metadata": {},
   "outputs": [],
   "source": [
    "# Definition for singly-linked list.\n",
    "# class ListNode(object):\n",
    "#     def __init__(self, val=0, next=None):\n",
    "#         self.val = val\n",
    "#         self.next = next\n",
    "class Solution(object):\n",
    "    def addTwoNumbers(self, l1, l2):\n",
    "        \"\"\"\n",
    "        :type l1: ListNode\n",
    "        :type l2: ListNode\n",
    "        :rtype: ListNode\n",
    "        \"\"\"\n",
    "        root = ListNode(0)\n",
    "        parent = root\n",
    "        ptr = root\n",
    "        carry = 0\n",
    "\n",
    "        while l1 != None and l2 != None:\n",
    "            ptr.val = (l1.val + l2.val + carry) % 10\n",
    "            carry = (l1.val + l2.val + carry) / 10\n",
    "            l1 = l1.next\n",
    "            l2 = l2.next\n",
    "            ptr.next = ListNode(0)\n",
    "            parent = ptr\n",
    "            ptr = ptr.next\n",
    "\n",
    "        if l1 == None:\n",
    "            while l2!= None:\n",
    "                ptr.val = (l2.val + carry) % 10\n",
    "                carry = (l2.val + carry) / 10\n",
    "                l2 = l2.next\n",
    "                ptr.next = ListNode(0)\n",
    "                parent = ptr\n",
    "                ptr = ptr.next\n",
    "        elif l2 == None:\n",
    "            while l1!= None:\n",
    "                ptr.val = (l1.val + carry) % 10\n",
    "                carry = (l1.val + carry) / 10\n",
    "                l1 = l1.next\n",
    "                ptr.next = ListNode(0)\n",
    "                parent = ptr\n",
    "                ptr = ptr.next\n",
    "\n",
    "        if carry!= 0:\n",
    "            ptr.val = carry\n",
    "        else:\n",
    "            parent.next = None\n",
    "\n",
    "        return root"
   ]
  },
  {
   "cell_type": "code",
   "execution_count": null,
   "metadata": {},
   "outputs": [],
   "source": []
  }
 ],
 "metadata": {
  "kernelspec": {
   "display_name": "base",
   "language": "python",
   "name": "python3"
  },
  "language_info": {
   "codemirror_mode": {
    "name": "ipython",
    "version": 3
   },
   "file_extension": ".py",
   "mimetype": "text/x-python",
   "name": "python",
   "nbconvert_exporter": "python",
   "pygments_lexer": "ipython3",
   "version": "3.11.4"
  },
  "orig_nbformat": 4
 },
 "nbformat": 4,
 "nbformat_minor": 2
}
