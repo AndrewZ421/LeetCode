{
 "cells": [
  {
   "cell_type": "code",
   "execution_count": 7,
   "metadata": {},
   "outputs": [],
   "source": [
    "import heapq\n",
    "class Solution:\n",
    "    def topKFrequent(self, nums, k):\n",
    "        m = {}\n",
    "        for i in range(len(nums)):\n",
    "            m[nums[i]] = m.get(nums[i], 0) + 1\n",
    "        \n",
    "        que = []\n",
    "\n",
    "        for val, freq in m.items():\n",
    "            heapq.heappush(que, (freq, val))\n",
    "            if len(que) > k:\n",
    "                heapq.heappop(que)\n",
    "        \n",
    "        res = []\n",
    "        for freq, val in que:\n",
    "            res.insert(0, val)\n",
    "\n",
    "        return res"
   ]
  },
  {
   "cell_type": "code",
   "execution_count": 8,
   "metadata": {},
   "outputs": [
    {
     "data": {
      "text/plain": [
       "[1, 2]"
      ]
     },
     "execution_count": 8,
     "metadata": {},
     "output_type": "execute_result"
    }
   ],
   "source": [
    "theS = Solution()\n",
    "nums = [1,1,1,2,2,3]\n",
    "k = 2\n",
    "theS.topKFrequent(nums, k)"
   ]
  },
  {
   "cell_type": "code",
   "execution_count": null,
   "metadata": {},
   "outputs": [],
   "source": []
  }
 ],
 "metadata": {
  "kernelspec": {
   "display_name": "base",
   "language": "python",
   "name": "python3"
  },
  "language_info": {
   "codemirror_mode": {
    "name": "ipython",
    "version": 3
   },
   "file_extension": ".py",
   "mimetype": "text/x-python",
   "name": "python",
   "nbconvert_exporter": "python",
   "pygments_lexer": "ipython3",
   "version": "3.11.5"
  }
 },
 "nbformat": 4,
 "nbformat_minor": 2
}
