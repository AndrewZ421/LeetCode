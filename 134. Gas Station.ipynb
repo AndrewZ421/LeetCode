{
 "cells": [
  {
   "cell_type": "code",
   "execution_count": 3,
   "metadata": {},
   "outputs": [],
   "source": [
    "class Solution(object):\n",
    "    def canCompleteCircuit(self, gas, cost):\n",
    "        \"\"\"\n",
    "        :type gas: List[int]\n",
    "        :type cost: List[int]\n",
    "        :rtype: int\n",
    "        \"\"\"\n",
    "        if sum(gas)<sum(cost):\n",
    "            return -1\n",
    "        \n",
    "        start = 0\n",
    "        location = 0\n",
    "        tank = 0\n",
    "\n",
    "        while start < len(gas):\n",
    "            if gas[start] >= cost[start]:\n",
    "                location = (start + 1) % len(gas)\n",
    "                tank += gas[start] - cost[start]\n",
    "                while tank >= 0:\n",
    "                    if location == start:\n",
    "                        return start\n",
    "                    tank += gas[location] - cost[location]\n",
    "                    location = (location + 1) % len(gas)\n",
    "                if location <= start:\n",
    "                    return -1\n",
    "                else:\n",
    "                    start = location\n",
    "                    location = (start + 1) % len(gas)\n",
    "                    tank = 0\n",
    "            else:\n",
    "                start += 1\n",
    "                location = (start + 1) % len(gas)\n",
    "                tank = 0\n",
    "        return -1"
   ]
  },
  {
   "cell_type": "code",
   "execution_count": 4,
   "metadata": {},
   "outputs": [
    {
     "data": {
      "text/plain": [
       "-1"
      ]
     },
     "execution_count": 4,
     "metadata": {},
     "output_type": "execute_result"
    }
   ],
   "source": [
    "theS = Solution()\n",
    "gas = [2,3,4]\n",
    "cost = [3,4,3]\n",
    "theS.canCompleteCircuit(gas, cost)"
   ]
  },
  {
   "cell_type": "code",
   "execution_count": null,
   "metadata": {},
   "outputs": [],
   "source": []
  }
 ],
 "metadata": {
  "kernelspec": {
   "display_name": "base",
   "language": "python",
   "name": "python3"
  },
  "language_info": {
   "codemirror_mode": {
    "name": "ipython",
    "version": 3
   },
   "file_extension": ".py",
   "mimetype": "text/x-python",
   "name": "python",
   "nbconvert_exporter": "python",
   "pygments_lexer": "ipython3",
   "version": "3.11.4"
  },
  "orig_nbformat": 4
 },
 "nbformat": 4,
 "nbformat_minor": 2
}
