{
 "cells": [
  {
   "cell_type": "code",
   "execution_count": 11,
   "metadata": {},
   "outputs": [],
   "source": [
    "class Solution:\n",
    "    def reverseWords(self, s: str) -> str:\n",
    "        ptr  = len(s) - 1\n",
    "        word = \"\"\n",
    "        ans = \"\"\n",
    "        hasWord = False\n",
    "        while ptr >= 0:\n",
    "            c = s[ptr]\n",
    "            if c == ' ':\n",
    "                if hasWord:\n",
    "                    ans = ans + ' ' + word\n",
    "                    word = \"\"\n",
    "                    hasWord = False\n",
    "            else:\n",
    "                hasWord = True\n",
    "                word = c + word\n",
    "            ptr = ptr - 1\n",
    "        if hasWord:\n",
    "            ans = ans + ' ' + word\n",
    "        return ans[1:]"
   ]
  },
  {
   "cell_type": "code",
   "execution_count": 12,
   "metadata": {},
   "outputs": [
    {
     "data": {
      "text/plain": [
       "'blue is sky the'"
      ]
     },
     "execution_count": 12,
     "metadata": {},
     "output_type": "execute_result"
    }
   ],
   "source": [
    "theS = Solution()\n",
    "s = \"the sky is blue\"\n",
    "theS.reverseWords(s)"
   ]
  },
  {
   "cell_type": "code",
   "execution_count": null,
   "metadata": {},
   "outputs": [],
   "source": []
  }
 ],
 "metadata": {
  "kernelspec": {
   "display_name": "base",
   "language": "python",
   "name": "python3"
  },
  "language_info": {
   "codemirror_mode": {
    "name": "ipython",
    "version": 3
   },
   "file_extension": ".py",
   "mimetype": "text/x-python",
   "name": "python",
   "nbconvert_exporter": "python",
   "pygments_lexer": "ipython3",
   "version": "3.11.5"
  }
 },
 "nbformat": 4,
 "nbformat_minor": 2
}
