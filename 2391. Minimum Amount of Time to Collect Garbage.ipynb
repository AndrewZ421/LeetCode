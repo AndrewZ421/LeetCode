{
 "cells": [
  {
   "cell_type": "code",
   "execution_count": 7,
   "metadata": {},
   "outputs": [],
   "source": [
    "class Solution:\n",
    "    def garbageCollection(self, garbage, travel) -> int:\n",
    "        lastM, lastP, lastG = 0, 0, 0\n",
    "        num = 0\n",
    "        for i in range(len(garbage)):\n",
    "            if 'M' in garbage[i]:\n",
    "                lastM = i\n",
    "            if 'P' in garbage[i]:\n",
    "                lastP = i\n",
    "            if 'G' in garbage[i]:\n",
    "                lastG = i\n",
    "            num += len(garbage[i])\n",
    "        \n",
    "        ans = num + sum(travel[:lastM]) + sum(travel[:lastP]) + sum(travel[:lastG])\n",
    "        return ans"
   ]
  },
  {
   "cell_type": "code",
   "execution_count": 8,
   "metadata": {},
   "outputs": [
    {
     "data": {
      "text/plain": [
       "37"
      ]
     },
     "execution_count": 8,
     "metadata": {},
     "output_type": "execute_result"
    }
   ],
   "source": [
    "theS = Solution()\n",
    "garbage = [\"MMM\",\"PGM\",\"GP\"]\n",
    "travel = [3,10]\n",
    "theS.garbageCollection(garbage, travel)"
   ]
  },
  {
   "cell_type": "code",
   "execution_count": null,
   "metadata": {},
   "outputs": [],
   "source": []
  }
 ],
 "metadata": {
  "kernelspec": {
   "display_name": "base",
   "language": "python",
   "name": "python3"
  },
  "language_info": {
   "codemirror_mode": {
    "name": "ipython",
    "version": 3
   },
   "file_extension": ".py",
   "mimetype": "text/x-python",
   "name": "python",
   "nbconvert_exporter": "python",
   "pygments_lexer": "ipython3",
   "version": "3.10.13"
  }
 },
 "nbformat": 4,
 "nbformat_minor": 2
}
