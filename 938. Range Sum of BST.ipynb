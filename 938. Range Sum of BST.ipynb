{
 "cells": [
  {
   "cell_type": "code",
   "execution_count": null,
   "metadata": {},
   "outputs": [],
   "source": [
    "# Definition for a binary tree node.\n",
    "# class TreeNode:\n",
    "#     def __init__(self, val=0, left=None, right=None):\n",
    "#         self.val = val\n",
    "#         self.left = left\n",
    "#         self.right = right\n",
    "class Solution:\n",
    "    def __init__(self):\n",
    "        self.ans = 0\n",
    "        self.low = 0\n",
    "        self.high = 0\n",
    "\n",
    "    def search(self, node):\n",
    "        if node == None:\n",
    "            return\n",
    "        if node.val < self.low:\n",
    "            self.search(node.right)\n",
    "        elif node.val <= self.high:\n",
    "            self.ans += node.val\n",
    "            self.search(node.left)\n",
    "            self.search(node.right)\n",
    "        else:\n",
    "            self.search(node.left)\n",
    "\n",
    "    def rangeSumBST(self, root: Optional[TreeNode], low: int, high: int) -> int:\n",
    "        self.low = low\n",
    "        self.high = high\n",
    "        self.search(root)\n",
    "        return self.ans"
   ]
  }
 ],
 "metadata": {
  "language_info": {
   "name": "python"
  }
 },
 "nbformat": 4,
 "nbformat_minor": 2
}
