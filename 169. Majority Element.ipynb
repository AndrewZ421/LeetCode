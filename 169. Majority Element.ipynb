{
 "cells": [
  {
   "cell_type": "code",
   "execution_count": 7,
   "metadata": {},
   "outputs": [],
   "source": [
    "class Solution:\n",
    "    def majorityElement(self, nums) -> int:\n",
    "        nums = sorted(nums)\n",
    "        ans = nums[0]\n",
    "        ans_count = 0\n",
    "        tmp = nums[0]\n",
    "        count = 1\n",
    "        for i in range(1, len(nums)):\n",
    "            if nums[i] == tmp:\n",
    "                count += 1\n",
    "            else:\n",
    "                if count > ans_count:\n",
    "                    ans = tmp\n",
    "                    ans_count = count\n",
    "                tmp = nums[i]\n",
    "                count = 1\n",
    "        if count > ans_count:\n",
    "            ans = tmp\n",
    "            ans_count = count\n",
    "        return ans"
   ]
  },
  {
   "cell_type": "code",
   "execution_count": 8,
   "metadata": {},
   "outputs": [
    {
     "data": {
      "text/plain": [
       "2"
      ]
     },
     "execution_count": 8,
     "metadata": {},
     "output_type": "execute_result"
    }
   ],
   "source": [
    "theS = Solution()\n",
    "nums = [2,2,1,1,1,2,2]\n",
    "theS.majorityElement(nums)"
   ]
  },
  {
   "cell_type": "code",
   "execution_count": null,
   "metadata": {},
   "outputs": [],
   "source": []
  }
 ],
 "metadata": {
  "kernelspec": {
   "display_name": "base",
   "language": "python",
   "name": "python3"
  },
  "language_info": {
   "codemirror_mode": {
    "name": "ipython",
    "version": 3
   },
   "file_extension": ".py",
   "mimetype": "text/x-python",
   "name": "python",
   "nbconvert_exporter": "python",
   "pygments_lexer": "ipython3",
   "version": "3.10.9"
  }
 },
 "nbformat": 4,
 "nbformat_minor": 2
}
