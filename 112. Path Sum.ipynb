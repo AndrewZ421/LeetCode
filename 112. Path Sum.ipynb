{
 "cells": [
  {
   "cell_type": "code",
   "execution_count": 1,
   "metadata": {},
   "outputs": [],
   "source": [
    "class TreeNode:\n",
    "    def __init__(self, val=0, left=None, right=None):\n",
    "        self.val = val\n",
    "        self.left = left\n",
    "        self.right = right"
   ]
  },
  {
   "cell_type": "code",
   "execution_count": null,
   "metadata": {},
   "outputs": [],
   "source": [
    "def isLeaf(node):\n",
    "    if node.left == None and node.right == None:\n",
    "        return True\n",
    "    return False\n",
    "\n",
    "class Solution:\n",
    "    def __init__(self):\n",
    "        self.current = 0\n",
    "        self.targetSum = 0\n",
    "\n",
    "    def solve(self, node):\n",
    "        print('1', self.current)\n",
    "        self.current += node.val\n",
    "        print('2', self.current, node.val)\n",
    "        if self.current == self.targetSum and isLeaf(node):\n",
    "            return True\n",
    "        else:\n",
    "            if node.left != None:\n",
    "                if self.solve(node.left):\n",
    "                    return True\n",
    "            if node.right != None:\n",
    "                if self.solve(node.right):\n",
    "                    return True\n",
    "        print('3', self.current, node.val)\n",
    "        self.current -= node.val\n",
    "        print('4', self.current)\n",
    "        return False\n",
    "\n",
    "    def hasPathSum(self, root: Optional[TreeNode], targetSum: int) -> bool:\n",
    "        if root == None:\n",
    "            return False\n",
    "        self.targetSum = targetSum\n",
    "        return self.solve(root)\n"
   ]
  }
 ],
 "metadata": {
  "kernelspec": {
   "display_name": "base",
   "language": "python",
   "name": "python3"
  },
  "language_info": {
   "codemirror_mode": {
    "name": "ipython",
    "version": 3
   },
   "file_extension": ".py",
   "mimetype": "text/x-python",
   "name": "python",
   "nbconvert_exporter": "python",
   "pygments_lexer": "ipython3",
   "version": "3.10.9"
  }
 },
 "nbformat": 4,
 "nbformat_minor": 2
}
