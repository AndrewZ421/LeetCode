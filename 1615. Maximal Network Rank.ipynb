{
 "cells": [
  {
   "cell_type": "code",
   "execution_count": 38,
   "metadata": {},
   "outputs": [],
   "source": [
    "class Solution(object):\n",
    "    def maximalNetworkRank(self, n, roads):\n",
    "        \"\"\"\n",
    "        :type n: int\n",
    "        :type roads: List[List[int]]\n",
    "        :rtype: int\n",
    "        \"\"\"\n",
    "        network = [[0] * n for _ in range(n)]\n",
    "        for r in roads:\n",
    "            (a, b) = r\n",
    "            network[a][b] += 1\n",
    "            network[b][a] += 1\n",
    "        ans = 0\n",
    "        for i in range(n):\n",
    "            for j in range(i+1, n):\n",
    "                ans = max(ans, sum(network[i]) + sum(network[j]) - network[i][j])\n",
    "        return ans"
   ]
  },
  {
   "cell_type": "code",
   "execution_count": 39,
   "metadata": {},
   "outputs": [
    {
     "data": {
      "text/plain": [
       "4"
      ]
     },
     "execution_count": 39,
     "metadata": {},
     "output_type": "execute_result"
    }
   ],
   "source": [
    "theS = Solution()\n",
    "n = 4\n",
    "roads = [[0,1],[0,3],[1,2],[1,3]]\n",
    "theS.maximalNetworkRank(n, roads)"
   ]
  },
  {
   "cell_type": "code",
   "execution_count": null,
   "metadata": {},
   "outputs": [],
   "source": []
  }
 ],
 "metadata": {
  "kernelspec": {
   "display_name": "base",
   "language": "python",
   "name": "python3"
  },
  "language_info": {
   "codemirror_mode": {
    "name": "ipython",
    "version": 3
   },
   "file_extension": ".py",
   "mimetype": "text/x-python",
   "name": "python",
   "nbconvert_exporter": "python",
   "pygments_lexer": "ipython3",
   "version": "3.11.4"
  },
  "orig_nbformat": 4
 },
 "nbformat": 4,
 "nbformat_minor": 2
}
