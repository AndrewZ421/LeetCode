{
 "cells": [
  {
   "cell_type": "code",
   "execution_count": 8,
   "metadata": {},
   "outputs": [],
   "source": [
    "class Solution(object):\n",
    "    def productExceptSelf(self, nums):\n",
    "        \"\"\"\n",
    "        :type nums: List[int]\n",
    "        :rtype: List[int]\n",
    "        \"\"\"\n",
    "        ans = []\n",
    "        pre_product = 1\n",
    "        pre_product_list = [1]\n",
    "        post_product = 1\n",
    "        post_product_list = [1]\n",
    "\n",
    "        for i in range(1, len(nums)):\n",
    "            pre_product *= nums[i-1]\n",
    "            pre_product_list.append(pre_product)\n",
    "        \n",
    "        for i in range(len(nums)-2, -1, -1):\n",
    "            post_product *= nums[i+1]\n",
    "            post_product_list.insert(0, post_product)\n",
    "\n",
    "        for i in range(len(nums)):\n",
    "            ans.append(pre_product_list[i] * post_product_list[i])\n",
    "\n",
    "        return ans"
   ]
  },
  {
   "cell_type": "code",
   "execution_count": 9,
   "metadata": {},
   "outputs": [
    {
     "data": {
      "text/plain": [
       "[0, 0, 9, 0, 0]"
      ]
     },
     "execution_count": 9,
     "metadata": {},
     "output_type": "execute_result"
    }
   ],
   "source": [
    "theS = Solution()\n",
    "nums = [-1,1,0,-3,3]\n",
    "theS.productExceptSelf(nums)"
   ]
  },
  {
   "cell_type": "code",
   "execution_count": null,
   "metadata": {},
   "outputs": [],
   "source": []
  }
 ],
 "metadata": {
  "kernelspec": {
   "display_name": "base",
   "language": "python",
   "name": "python3"
  },
  "language_info": {
   "codemirror_mode": {
    "name": "ipython",
    "version": 3
   },
   "file_extension": ".py",
   "mimetype": "text/x-python",
   "name": "python",
   "nbconvert_exporter": "python",
   "pygments_lexer": "ipython3",
   "version": "3.11.4"
  },
  "orig_nbformat": 4
 },
 "nbformat": 4,
 "nbformat_minor": 2
}
