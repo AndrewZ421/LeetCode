{
 "cells": [
  {
   "cell_type": "code",
   "execution_count": 55,
   "metadata": {},
   "outputs": [],
   "source": [
    "class Solution(object):\n",
    "    def nextPermutation(self, nums):\n",
    "        \"\"\"\n",
    "        :type nums: List[int]\n",
    "        :rtype: None Do not return anything, modify nums in-place instead.\n",
    "        \"\"\"\n",
    "        idx = len(nums) - 2\n",
    "        while idx >= 0:\n",
    "            if nums[idx] < nums[idx + 1]:\n",
    "                break\n",
    "            idx -= 1\n",
    "\n",
    "        if idx == -1:\n",
    "            nums.reverse()\n",
    "            return nums\n",
    "        else:\n",
    "            min_value = nums[idx + 1]\n",
    "            min_idx = idx + 1\n",
    "            for i in range(idx + 2, len(nums)):\n",
    "                if nums[idx] < nums[i]:\n",
    "                    if nums[i] < min_value:\n",
    "                        min_value = nums[i]\n",
    "                        min_idx = i\n",
    "                else:\n",
    "                    break\n",
    "            nums[idx], nums[min_idx] = nums[min_idx], nums[idx]\n",
    "            temp = nums[idx + 1:]\n",
    "            temp.reverse()\n",
    "            nums[idx + 1:] = temp\n",
    "            \n",
    "        return nums"
   ]
  },
  {
   "cell_type": "code",
   "execution_count": 56,
   "metadata": {},
   "outputs": [
    {
     "name": "stdout",
     "output_type": "stream",
     "text": [
      "[2, 3, 1]\n",
      "[3, 2, 1]\n",
      "[2, 1]\n",
      "[1, 2]\n",
      "[3, 1, 2]\n"
     ]
    },
    {
     "data": {
      "text/plain": [
       "[3, 1, 2]"
      ]
     },
     "execution_count": 56,
     "metadata": {},
     "output_type": "execute_result"
    }
   ],
   "source": [
    "theS = Solution()\n",
    "nums = [2,3,1]\n",
    "theS.nextPermutation(nums)"
   ]
  },
  {
   "cell_type": "code",
   "execution_count": null,
   "metadata": {},
   "outputs": [],
   "source": []
  }
 ],
 "metadata": {
  "kernelspec": {
   "display_name": "base",
   "language": "python",
   "name": "python3"
  },
  "language_info": {
   "codemirror_mode": {
    "name": "ipython",
    "version": 3
   },
   "file_extension": ".py",
   "mimetype": "text/x-python",
   "name": "python",
   "nbconvert_exporter": "python",
   "pygments_lexer": "ipython3",
   "version": "3.11.4"
  },
  "orig_nbformat": 4
 },
 "nbformat": 4,
 "nbformat_minor": 2
}
