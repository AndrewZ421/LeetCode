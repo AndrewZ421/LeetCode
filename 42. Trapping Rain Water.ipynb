{
 "cells": [
  {
   "cell_type": "code",
   "execution_count": 16,
   "metadata": {},
   "outputs": [],
   "source": [
    "class Solution:\n",
    "    def trap(self, height):\n",
    "        ans = 0\n",
    "        maxheight = height[0]\n",
    "        maxindex = 0\n",
    "        \n",
    "        for i in range(1, len(height)):\n",
    "            if height[i] > maxheight:\n",
    "                maxindex = i\n",
    "                maxheight = height[i]\n",
    "        \n",
    "        currmax = height[0]\n",
    "        for i in range(1, maxindex):\n",
    "            if height[i] > currmax:\n",
    "                currmax = height[i]\n",
    "            else:\n",
    "                ans += currmax - height[i]\n",
    "\n",
    "        currmax = height[-1]\n",
    "        for i in range(len(height)-1, maxindex-1, -1):\n",
    "            if height[i] > currmax:\n",
    "                currmax = height[i]\n",
    "            else:\n",
    "                ans += currmax - height[i]\n",
    "        \n",
    "        return ans"
   ]
  },
  {
   "cell_type": "code",
   "execution_count": 18,
   "metadata": {},
   "outputs": [
    {
     "data": {
      "text/plain": [
       "9"
      ]
     },
     "execution_count": 18,
     "metadata": {},
     "output_type": "execute_result"
    }
   ],
   "source": [
    "theS = Solution()\n",
    "height = [4,2,0,3,2,5]\n",
    "theS.trap(height)"
   ]
  },
  {
   "cell_type": "code",
   "execution_count": null,
   "metadata": {},
   "outputs": [],
   "source": []
  }
 ],
 "metadata": {
  "kernelspec": {
   "display_name": "base",
   "language": "python",
   "name": "python3"
  },
  "language_info": {
   "codemirror_mode": {
    "name": "ipython",
    "version": 3
   },
   "file_extension": ".py",
   "mimetype": "text/x-python",
   "name": "python",
   "nbconvert_exporter": "python",
   "pygments_lexer": "ipython3",
   "version": "3.11.4"
  },
  "orig_nbformat": 4
 },
 "nbformat": 4,
 "nbformat_minor": 2
}
