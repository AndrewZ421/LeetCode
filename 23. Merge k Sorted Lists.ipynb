{
 "cells": [
  {
   "cell_type": "code",
   "execution_count": 36,
   "metadata": {},
   "outputs": [],
   "source": [
    "class ListNode:\n",
    "    def __init__(self, val=0, next=None):\n",
    "        self.val = val\n",
    "        self.next = next"
   ]
  },
  {
   "cell_type": "code",
   "execution_count": 40,
   "metadata": {},
   "outputs": [],
   "source": [
    "def myAppend(myList, element):\n",
    "    if element != None:\n",
    "        inserted = False\n",
    "        for i in range(len(myList)):\n",
    "            if myList[i].val >= element.val:\n",
    "                inserted = True\n",
    "                myList.insert(i, element)\n",
    "                break\n",
    "        if not inserted:\n",
    "            myList.append(element)\n",
    "\n",
    "class Solution:\n",
    "    def mergeKLists(self, lists):\n",
    "        root = ListNode()\n",
    "        currPtr = root\n",
    "        k = len(lists)\n",
    "        myList = []\n",
    "        for i in range(k):\n",
    "            if lists[i] != None:\n",
    "                myAppend(myList, lists[i])\n",
    "        while len(myList):\n",
    "            currNode = myList.pop(0)\n",
    "            myAppend(myList, currNode.next)\n",
    "\n",
    "            newNode = ListNode(val = currNode.val)\n",
    "            currPtr.next = newNode\n",
    "            currPtr = newNode\n",
    "\n",
    "        return root.next"
   ]
  },
  {
   "cell_type": "code",
   "execution_count": 41,
   "metadata": {},
   "outputs": [
    {
     "data": {
      "text/plain": [
       "<__main__.ListNode at 0x7ff7730cf2e0>"
      ]
     },
     "execution_count": 41,
     "metadata": {},
     "output_type": "execute_result"
    }
   ],
   "source": [
    "theS = Solution()\n",
    "root1 = ListNode(val = 1, next = ListNode(val = 4, next = ListNode(val = 5)))\n",
    "root2 = ListNode(val = 1, next = ListNode(val = 3, next = ListNode(val = 4)))\n",
    "root3 = ListNode(val = 2, next = ListNode(val = 6))\n",
    "roots = [root1, root2, root3]\n",
    "theS.mergeKLists(roots)"
   ]
  },
  {
   "cell_type": "code",
   "execution_count": null,
   "metadata": {},
   "outputs": [],
   "source": []
  }
 ],
 "metadata": {
  "kernelspec": {
   "display_name": "base",
   "language": "python",
   "name": "python3"
  },
  "language_info": {
   "codemirror_mode": {
    "name": "ipython",
    "version": 3
   },
   "file_extension": ".py",
   "mimetype": "text/x-python",
   "name": "python",
   "nbconvert_exporter": "python",
   "pygments_lexer": "ipython3",
   "version": "3.10.9"
  }
 },
 "nbformat": 4,
 "nbformat_minor": 2
}
